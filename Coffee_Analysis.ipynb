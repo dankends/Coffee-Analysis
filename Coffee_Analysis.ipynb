{
 "cells": [
  {
   "cell_type": "markdown",
   "id": "ca74c1d8",
   "metadata": {},
   "source": [
    "# Importing libraries for data analysis and visualization"
   ]
  },
  {
   "cell_type": "code",
   "execution_count": 55,
   "id": "5e822c99",
   "metadata": {},
   "outputs": [],
   "source": [
    "import pandas as pd\n",
    "import numpy as mp\n",
    "from matplotlib import pyplot as plt\n",
    "from matplotlib.gridspec import GridSpec"
   ]
  },
  {
   "cell_type": "markdown",
   "id": "0c7e1d04",
   "metadata": {},
   "source": [
    "# Reading the Input Data"
   ]
  },
  {
   "cell_type": "code",
   "execution_count": 100,
   "id": "24c2b1ae",
   "metadata": {},
   "outputs": [],
   "source": [
    "coffee_production = pd.read_csv('total-production.csv').T\n",
    "coffee_production.columns = coffee_production.iloc[0]\n",
    "coffee_production.drop('total_production', inplace = True)"
   ]
  },
  {
   "cell_type": "code",
   "execution_count": 99,
   "id": "425587d6",
   "metadata": {},
   "outputs": [
    {
     "data": {
      "text/html": [
       "<div>\n",
       "<style scoped>\n",
       "    .dataframe tbody tr th:only-of-type {\n",
       "        vertical-align: middle;\n",
       "    }\n",
       "\n",
       "    .dataframe tbody tr th {\n",
       "        vertical-align: top;\n",
       "    }\n",
       "\n",
       "    .dataframe thead th {\n",
       "        text-align: right;\n",
       "    }\n",
       "</style>\n",
       "<table border=\"1\" class=\"dataframe\">\n",
       "  <thead>\n",
       "    <tr style=\"text-align: right;\">\n",
       "      <th>total_production</th>\n",
       "      <th>Angola</th>\n",
       "      <th>Bolivia (Plurinational State of)</th>\n",
       "      <th>Brazil</th>\n",
       "      <th>Burundi</th>\n",
       "      <th>Ecuador</th>\n",
       "      <th>Indonesia</th>\n",
       "      <th>Madagascar</th>\n",
       "      <th>Malawi</th>\n",
       "      <th>Papua New Guinea</th>\n",
       "      <th>Paraguay</th>\n",
       "      <th>...</th>\n",
       "      <th>Panama</th>\n",
       "      <th>Sierra Leone</th>\n",
       "      <th>Sri Lanka</th>\n",
       "      <th>Thailand</th>\n",
       "      <th>Togo</th>\n",
       "      <th>Trinidad &amp; Tobago</th>\n",
       "      <th>Uganda</th>\n",
       "      <th>Venezuela</th>\n",
       "      <th>Viet Nam</th>\n",
       "      <th>Yemen</th>\n",
       "    </tr>\n",
       "  </thead>\n",
       "  <tbody>\n",
       "    <tr>\n",
       "      <th>1990</th>\n",
       "      <td>50.345</td>\n",
       "      <td>122.777</td>\n",
       "      <td>27285.6286</td>\n",
       "      <td>487.393</td>\n",
       "      <td>1503.815</td>\n",
       "      <td>7441.383</td>\n",
       "      <td>982.447</td>\n",
       "      <td>104.628</td>\n",
       "      <td>962.841</td>\n",
       "      <td>130.627</td>\n",
       "      <td>...</td>\n",
       "      <td>214.987</td>\n",
       "      <td>42.783</td>\n",
       "      <td>95.87</td>\n",
       "      <td>757.017</td>\n",
       "      <td>161.308</td>\n",
       "      <td>14.581</td>\n",
       "      <td>1955.009</td>\n",
       "      <td>1122.477</td>\n",
       "      <td>1310.288</td>\n",
       "      <td>0.0</td>\n",
       "    </tr>\n",
       "    <tr>\n",
       "      <th>1991</th>\n",
       "      <td>79.331</td>\n",
       "      <td>103.536</td>\n",
       "      <td>27293.4934</td>\n",
       "      <td>667.199</td>\n",
       "      <td>2123.824</td>\n",
       "      <td>8493.196</td>\n",
       "      <td>932.513</td>\n",
       "      <td>124.286</td>\n",
       "      <td>746.816</td>\n",
       "      <td>79.653</td>\n",
       "      <td>...</td>\n",
       "      <td>192.532</td>\n",
       "      <td>54.379</td>\n",
       "      <td>81.549</td>\n",
       "      <td>1468.936</td>\n",
       "      <td>432.652</td>\n",
       "      <td>17.792</td>\n",
       "      <td>2088.001</td>\n",
       "      <td>940.704</td>\n",
       "      <td>1437.848</td>\n",
       "      <td>0.0</td>\n",
       "    </tr>\n",
       "    <tr>\n",
       "      <th>1992</th>\n",
       "      <td>77.52</td>\n",
       "      <td>120.235</td>\n",
       "      <td>34603.3542</td>\n",
       "      <td>620.238</td>\n",
       "      <td>1185.48</td>\n",
       "      <td>5569.478</td>\n",
       "      <td>1121.684</td>\n",
       "      <td>137.161</td>\n",
       "      <td>900.111</td>\n",
       "      <td>54.291</td>\n",
       "      <td>...</td>\n",
       "      <td>196.978</td>\n",
       "      <td>39.084</td>\n",
       "      <td>53.181</td>\n",
       "      <td>1254.945</td>\n",
       "      <td>85.648</td>\n",
       "      <td>14.328</td>\n",
       "      <td>2185.074</td>\n",
       "      <td>1215.298</td>\n",
       "      <td>2340.447</td>\n",
       "      <td>0.0</td>\n",
       "    </tr>\n",
       "    <tr>\n",
       "      <th>1993</th>\n",
       "      <td>32.608</td>\n",
       "      <td>50.823</td>\n",
       "      <td>28166.9786</td>\n",
       "      <td>393.354</td>\n",
       "      <td>2069.007</td>\n",
       "      <td>6743.288</td>\n",
       "      <td>441.859</td>\n",
       "      <td>62.111</td>\n",
       "      <td>1019.481</td>\n",
       "      <td>70.046</td>\n",
       "      <td>...</td>\n",
       "      <td>142.066</td>\n",
       "      <td>37.451</td>\n",
       "      <td>53.79</td>\n",
       "      <td>1275.201</td>\n",
       "      <td>194.939</td>\n",
       "      <td>16.079</td>\n",
       "      <td>3141.706</td>\n",
       "      <td>1332.881</td>\n",
       "      <td>3020.216</td>\n",
       "      <td>0.0</td>\n",
       "    </tr>\n",
       "    <tr>\n",
       "      <th>1994</th>\n",
       "      <td>76.802</td>\n",
       "      <td>116.944</td>\n",
       "      <td>28192.047</td>\n",
       "      <td>664.143</td>\n",
       "      <td>2375.766</td>\n",
       "      <td>5367.878</td>\n",
       "      <td>641.372</td>\n",
       "      <td>84.112</td>\n",
       "      <td>1138.659</td>\n",
       "      <td>24.689</td>\n",
       "      <td>...</td>\n",
       "      <td>248.313</td>\n",
       "      <td>72.738</td>\n",
       "      <td>42.448</td>\n",
       "      <td>1399.135</td>\n",
       "      <td>176.296</td>\n",
       "      <td>18.435</td>\n",
       "      <td>2392.753</td>\n",
       "      <td>988.996</td>\n",
       "      <td>3631.609</td>\n",
       "      <td>0.0</td>\n",
       "    </tr>\n",
       "  </tbody>\n",
       "</table>\n",
       "<p>5 rows × 56 columns</p>\n",
       "</div>"
      ],
      "text/plain": [
       "total_production  Angola Bolivia (Plurinational State of)      Brazil  \\\n",
       "1990              50.345                          122.777  27285.6286   \n",
       "1991              79.331                          103.536  27293.4934   \n",
       "1992               77.52                          120.235  34603.3542   \n",
       "1993              32.608                           50.823  28166.9786   \n",
       "1994              76.802                          116.944   28192.047   \n",
       "\n",
       "total_production  Burundi   Ecuador Indonesia Madagascar   Malawi  \\\n",
       "1990              487.393  1503.815  7441.383    982.447  104.628   \n",
       "1991              667.199  2123.824  8493.196    932.513  124.286   \n",
       "1992              620.238   1185.48  5569.478   1121.684  137.161   \n",
       "1993              393.354  2069.007  6743.288    441.859   62.111   \n",
       "1994              664.143  2375.766  5367.878    641.372   84.112   \n",
       "\n",
       "total_production Papua New Guinea Paraguay  ...   Panama Sierra Leone  \\\n",
       "1990                      962.841  130.627  ...  214.987       42.783   \n",
       "1991                      746.816   79.653  ...  192.532       54.379   \n",
       "1992                      900.111   54.291  ...  196.978       39.084   \n",
       "1993                     1019.481   70.046  ...  142.066       37.451   \n",
       "1994                     1138.659   24.689  ...  248.313       72.738   \n",
       "\n",
       "total_production Sri Lanka  Thailand     Togo Trinidad & Tobago    Uganda  \\\n",
       "1990                 95.87   757.017  161.308            14.581  1955.009   \n",
       "1991                81.549  1468.936  432.652            17.792  2088.001   \n",
       "1992                53.181  1254.945   85.648            14.328  2185.074   \n",
       "1993                 53.79  1275.201  194.939            16.079  3141.706   \n",
       "1994                42.448  1399.135  176.296            18.435  2392.753   \n",
       "\n",
       "total_production Venezuela  Viet Nam Yemen  \n",
       "1990              1122.477  1310.288   0.0  \n",
       "1991               940.704  1437.848   0.0  \n",
       "1992              1215.298  2340.447   0.0  \n",
       "1993              1332.881  3020.216   0.0  \n",
       "1994               988.996  3631.609   0.0  \n",
       "\n",
       "[5 rows x 56 columns]"
      ]
     },
     "execution_count": 99,
     "metadata": {},
     "output_type": "execute_result"
    }
   ],
   "source": [
    "coffee_production.head()"
   ]
  },
  {
   "cell_type": "markdown",
   "id": "2c09cda9",
   "metadata": {},
   "source": [
    "# Selecting and listing the top 5 countries by total coffee production"
   ]
  },
  {
   "cell_type": "code",
   "execution_count": 101,
   "id": "36b30c4d",
   "metadata": {},
   "outputs": [
    {
     "data": {
      "text/plain": [
       "['Brazil', 'Viet Nam', 'Colombia', 'Indonesia', 'Ethiopia']"
      ]
     },
     "execution_count": 101,
     "metadata": {},
     "output_type": "execute_result"
    }
   ],
   "source": [
    "top5_countries = list(coffee_production.sum().sort_values(ascending = False).iloc[0:5].index)\n",
    "top5_countries"
   ]
  },
  {
   "cell_type": "markdown",
   "id": "4e3e0649",
   "metadata": {},
   "source": [
    "# Comparing Brazil's coffee production vs. the rest of the world for the donut charts (1990 and 2018)"
   ]
  },
  {
   "cell_type": "code",
   "execution_count": 104,
   "id": "7c066d62",
   "metadata": {},
   "outputs": [],
   "source": [
    "brazil_vs_others = (\n",
    "    coffee_production\n",
    "    .assign(\n",
    "        Others = coffee_production.drop('Brazil', axis = 1).sum(axis = 1)\n",
    "    )\n",
    "    .loc[:, ['Brazil', 'Others']]\n",
    "    .astype({'Brazil': 'float64', 'Others': 'float64'})\n",
    ")\n"
   ]
  },
  {
   "cell_type": "code",
   "execution_count": 106,
   "id": "20a29230",
   "metadata": {},
   "outputs": [
    {
     "data": {
      "text/html": [
       "<div>\n",
       "<style scoped>\n",
       "    .dataframe tbody tr th:only-of-type {\n",
       "        vertical-align: middle;\n",
       "    }\n",
       "\n",
       "    .dataframe tbody tr th {\n",
       "        vertical-align: top;\n",
       "    }\n",
       "\n",
       "    .dataframe thead th {\n",
       "        text-align: right;\n",
       "    }\n",
       "</style>\n",
       "<table border=\"1\" class=\"dataframe\">\n",
       "  <thead>\n",
       "    <tr style=\"text-align: right;\">\n",
       "      <th>total_production</th>\n",
       "      <th>Brazil</th>\n",
       "      <th>Others</th>\n",
       "    </tr>\n",
       "  </thead>\n",
       "  <tbody>\n",
       "    <tr>\n",
       "      <th>1990</th>\n",
       "      <td>27285.6286</td>\n",
       "      <td>65944.431</td>\n",
       "    </tr>\n",
       "    <tr>\n",
       "      <th>1991</th>\n",
       "      <td>27293.4934</td>\n",
       "      <td>73973.191</td>\n",
       "    </tr>\n",
       "    <tr>\n",
       "      <th>1992</th>\n",
       "      <td>34603.3542</td>\n",
       "      <td>63922.545</td>\n",
       "    </tr>\n",
       "    <tr>\n",
       "      <th>1993</th>\n",
       "      <td>28166.9786</td>\n",
       "      <td>63597.643</td>\n",
       "    </tr>\n",
       "    <tr>\n",
       "      <th>1994</th>\n",
       "      <td>28192.0470</td>\n",
       "      <td>65121.147</td>\n",
       "    </tr>\n",
       "  </tbody>\n",
       "</table>\n",
       "</div>"
      ],
      "text/plain": [
       "total_production      Brazil     Others\n",
       "1990              27285.6286  65944.431\n",
       "1991              27293.4934  73973.191\n",
       "1992              34603.3542  63922.545\n",
       "1993              28166.9786  63597.643\n",
       "1994              28192.0470  65121.147"
      ]
     },
     "execution_count": 106,
     "metadata": {},
     "output_type": "execute_result"
    }
   ],
   "source": [
    "brazil_vs_others.head()"
   ]
  },
  {
   "cell_type": "code",
   "execution_count": 107,
   "id": "1acb618a",
   "metadata": {},
   "outputs": [],
   "source": [
    "coffee_production = (\n",
    "    coffee_production.assign(\n",
    "        Rest_Of_World = coffee_production.drop(['Brazil', 'Viet Nam', 'Colombia', 'Indonesia', 'Ethiopia'], axis = 1).sum(axis = 1)\n",
    "    )\n",
    ")\n",
    "\n",
    "top5_countries_2018 = (\n",
    "    coffee_production.loc['2018', ['Brazil', 'Viet Nam', 'Colombia', 'Indonesia', 'Ethiopia', 'Rest_Of_World']]\n",
    ")"
   ]
  },
  {
   "cell_type": "code",
   "execution_count": 109,
   "id": "f8fc5129",
   "metadata": {},
   "outputs": [
    {
     "data": {
      "text/plain": [
       "total_production\n",
       "Rest_Of_World    45786.0003\n",
       "Ethiopia          7776.2234\n",
       "Indonesia         9417.5942\n",
       "Colombia          13857.962\n",
       "Viet Nam         31174.0742\n",
       "Brazil           62924.8836\n",
       "Name: 2018, dtype: object"
      ]
     },
     "execution_count": 109,
     "metadata": {},
     "output_type": "execute_result"
    }
   ],
   "source": [
    "top5_countries_2018.iloc[::-1]"
   ]
  }
 ],
 "metadata": {
  "kernelspec": {
   "display_name": "Python 3 (ipykernel)",
   "language": "python",
   "name": "python3"
  },
  "language_info": {
   "codemirror_mode": {
    "name": "ipython",
    "version": 3
   },
   "file_extension": ".py",
   "mimetype": "text/x-python",
   "name": "python",
   "nbconvert_exporter": "python",
   "pygments_lexer": "ipython3",
   "version": "3.12.7"
  }
 },
 "nbformat": 4,
 "nbformat_minor": 5
}
