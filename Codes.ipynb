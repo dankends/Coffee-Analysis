{
 "cells": [
  {
   "cell_type": "code",
   "execution_count": null,
   "id": "17c635ce",
   "metadata": {},
   "outputs": [],
   "source": [
    "print(\"it is just a test\")"
   ]
  }
 ],
 "metadata": {
  "kernelspec": {
   "display_name": "Python 3 (ipykernel)",
   "language": "python",
   "name": "python3"
  }
 },
 "nbformat": 4,
 "nbformat_minor": 5
}
